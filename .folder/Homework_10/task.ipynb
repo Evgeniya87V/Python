{
 "cells": [
  {
   "cell_type": "markdown",
   "metadata": {},
   "source": [
    "Задача 44: В ячейке ниже представлен код генерирующий DataFrame, которая состоит всего из 1 столбца. Ваша задача перевести его в one hot вид. Сможете ли вы это сделать без get_dummies?\n",
    "\n",
    "import random\n",
    "lst = ['robot'] * 10\n",
    "lst += ['human'] * 10\n",
    "random.shuffle(lst)\n",
    "data = pd.DataFrame({'whoAmI':lst})\n",
    "data.head()"
   ]
  },
  {
   "cell_type": "code",
   "execution_count": 1,
   "metadata": {},
   "outputs": [
    {
     "name": "stdout",
     "output_type": "stream",
     "text": [
      "   whoAmI\n",
      "0   robot\n",
      "1   human\n",
      "2   robot\n",
      "3   robot\n",
      "4   robot\n",
      "5   human\n",
      "6   robot\n",
      "7   human\n",
      "8   human\n",
      "9   robot\n",
      "10  robot\n",
      "11  robot\n",
      "12  human\n",
      "13  human\n",
      "14  robot\n",
      "15  human\n",
      "16  human\n",
      "17  robot\n",
      "18  human\n",
      "19  human\n",
      "\n",
      "    human  robot\n",
      "0       0      1\n",
      "1       1      0\n",
      "2       0      1\n",
      "3       0      1\n",
      "4       0      1\n",
      "5       1      0\n",
      "6       0      1\n",
      "7       1      0\n",
      "8       1      0\n",
      "9       0      1\n",
      "10      0      1\n",
      "11      0      1\n",
      "12      1      0\n",
      "13      1      0\n",
      "14      0      1\n",
      "15      1      0\n",
      "16      1      0\n",
      "17      0      1\n",
      "18      1      0\n",
      "19      1      0\n"
     ]
    }
   ],
   "source": [
    "import pandas as pd \n",
    "import numpy as np \n",
    "import random\n",
    "\n",
    "lst = ['robot'] * 10 \n",
    "lst += ['human'] * 10 \n",
    "random.shuffle(lst) \n",
    "data = pd.DataFrame({'whoAmI': lst}) \n",
    "print(data)\n",
    "\n",
    "print('')\n",
    "\n",
    "data['tmp'] = 1 \n",
    "data.set_index([data.index, 'whoAmI'], inplace=True) \n",
    "data = data.unstack(level=-1, fill_value = 0).astype(int) \n",
    "data.columns = data.columns.droplevel()\n",
    "data.columns.name = None \n",
    "print(data)"
   ]
  }
 ],
 "metadata": {
  "kernelspec": {
   "display_name": ".folder",
   "language": "python",
   "name": "python3"
  },
  "language_info": {
   "codemirror_mode": {
    "name": "ipython",
    "version": 3
   },
   "file_extension": ".py",
   "mimetype": "text/x-python",
   "name": "python",
   "nbconvert_exporter": "python",
   "pygments_lexer": "ipython3",
   "version": "3.9.13"
  }
 },
 "nbformat": 4,
 "nbformat_minor": 2
}
