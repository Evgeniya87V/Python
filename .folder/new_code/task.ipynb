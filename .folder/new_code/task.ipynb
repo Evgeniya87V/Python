{
 "cells": [
  {
   "cell_type": "markdown",
   "metadata": {},
   "source": [
    "**Задача 44:**\n",
    " В ячейке ниже представлен код генерирующий DataFrame, которая состоит всего из 1 столбца. Ваша задача перевести его в one hot вид. Сможете ли вы это сделать без get_dummies?\n",
    "\n",
    "import random\n",
    "\n",
    "lst = ['robot'] * 10\n",
    "\n",
    "lst += ['human'] * 10\n",
    "\n",
    "random.shuffle(lst)\n",
    "\n",
    "data = pd.DataFrame({'whoAmI':lst})\n",
    "\n",
    "data.head()"
   ]
  },
  {
   "cell_type": "code",
   "execution_count": 2,
   "metadata": {},
   "outputs": [
    {
     "name": "stdout",
     "output_type": "stream",
     "text": [
      "   whoAmI\n",
      "0   robot\n",
      "1   human\n",
      "2   robot\n",
      "3   human\n",
      "4   human\n",
      "5   robot\n",
      "6   human\n",
      "7   robot\n",
      "8   robot\n",
      "9   human\n",
      "10  robot\n",
      "11  human\n",
      "12  robot\n",
      "13  human\n",
      "14  robot\n",
      "15  human\n",
      "16  robot\n",
      "17  human\n",
      "18  human\n",
      "19  robot\n",
      "\n"
     ]
    }
   ],
   "source": [
    "import pandas as pd \n",
    "import numpy as np \n",
    "import random\n",
    "\n",
    "lst = ['robot'] * 10 \n",
    "lst += ['human'] * 10 \n",
    "random.shuffle(lst) \n",
    "data = pd.DataFrame({'whoAmI': lst}) \n",
    "print(data)\n",
    "\n",
    "print('')"
   ]
  },
  {
   "cell_type": "markdown",
   "metadata": {},
   "source": [
    "Вот еще вариант без get_dummies:\n",
    "создаём словарь в котором ключи 'robot' и 'human', а значения - это списки (тут они сформированы с помощью list comprehension)\n",
    "в датафрейм передаем этот словарь."
   ]
  },
  {
   "cell_type": "code",
   "execution_count": 3,
   "metadata": {},
   "outputs": [
    {
     "name": "stdout",
     "output_type": "stream",
     "text": [
      "    robot  human\n",
      "0       1      0\n",
      "1       0      1\n",
      "2       1      0\n",
      "3       0      1\n",
      "4       0      1\n",
      "5       1      0\n",
      "6       0      1\n",
      "7       1      0\n",
      "8       1      0\n",
      "9       0      1\n",
      "10      1      0\n",
      "11      0      1\n",
      "12      1      0\n",
      "13      0      1\n",
      "14      1      0\n",
      "15      0      1\n",
      "16      1      0\n",
      "17      0      1\n",
      "18      0      1\n",
      "19      1      0\n"
     ]
    }
   ],
   "source": [
    "one_hot = pd.DataFrame({'robot': [1 if i == 'robot' else 0 for i in lst],\n",
    "                        'human': [1 if j == 'human' else 0 for j in lst]})\n",
    "print(one_hot)"
   ]
  }
 ],
 "metadata": {
  "kernelspec": {
   "display_name": "Python 3",
   "language": "python",
   "name": "python3"
  },
  "language_info": {
   "codemirror_mode": {
    "name": "ipython",
    "version": 3
   },
   "file_extension": ".py",
   "mimetype": "text/x-python",
   "name": "python",
   "nbconvert_exporter": "python",
   "pygments_lexer": "ipython3",
   "version": "3.10.13"
  }
 },
 "nbformat": 4,
 "nbformat_minor": 2
}
